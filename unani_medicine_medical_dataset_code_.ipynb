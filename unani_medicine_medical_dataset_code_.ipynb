{
  "nbformat": 4,
  "nbformat_minor": 0,
  "metadata": {
    "colab": {
      "provenance": [],
      "authorship_tag": "ABX9TyPLXVvRQqv9zBecgPSlMMxI",
      "include_colab_link": true
    },
    "kernelspec": {
      "name": "python3",
      "display_name": "Python 3"
    },
    "language_info": {
      "name": "python"
    }
  },
  "cells": [
    {
      "cell_type": "markdown",
      "metadata": {
        "id": "view-in-github",
        "colab_type": "text"
      },
      "source": [
        "<a href=\"https://colab.research.google.com/github/Mehulmm/Data-Mining-Project/blob/main/unani_medicine_medical_dataset_code_.ipynb\" target=\"_parent\"><img src=\"https://colab.research.google.com/assets/colab-badge.svg\" alt=\"Open In Colab\"/></a>"
      ]
    },
    {
      "cell_type": "code",
      "execution_count": null,
      "metadata": {
        "id": "Bs3ZDH_tlFtp"
      },
      "outputs": [],
      "source": [
        "#CDSS - CLINICAL DECISION SUPPORT SYSTEM\n",
        "\n",
        "\n",
        "import pandas as pd\n",
        "import random\n",
        "from sklearn.model_selection import train_test_split\n",
        "from sklearn.tree import DecisionTreeClassifier\n",
        "from sklearn.feature_extraction.text import TfidfVectorizer\n",
        "\n",
        "data = {\n",
        "    'Medicine_Name': [\n",
        "        'Khamira Abresham Sada',\n",
        "        'Jawarish Amla Sada',\n",
        "        'Habb-e-Asgand',\n",
        "        'Qurs Gulnar',\n",
        "        'Safoof Mohazzil',\n",
        "        'Roghan Badam Shirin',\n",
        "        'Sharbat Toos',\n",
        "        'Habb-e-Mumsik',\n",
        "        'Qurs Kushta Marjan',\n",
        "        'Jawarish Kamuni'\n",
        "    ],\n",
        "    'Usage': [\n",
        "        'General health tonic',\n",
        "        'Digestive disorders',\n",
        "        'Strengthens the nervous system',\n",
        "        'Cardiac disorders',\n",
        "        'Digestive disorders',\n",
        "        'Skin and hair care',\n",
        "        'Cooling drink for summer',\n",
        "        'Male sexual disorders',\n",
        "        'Cardiac disorders',\n",
        "        'Digestive disorders'\n",
        "    ]\n",
        "}\n",
        "\n",
        "df = pd.DataFrame(data)\n",
        "\n",
        "df.to_csv('unani_data.csv', index=False)\n",
        "df = pd.read_csv('unani_data.csv')\n",
        "\n",
        "# Split the dataset into training and testing sets\n",
        "X = df['Medicine_Name']\n",
        "y = df['Usage']\n",
        "X_train, X_test, y_train, y_test = train_test_split(X, y, test_size=0.2, random_state=42)\n",
        "\n",
        "vectorizer = TfidfVectorizer()\n",
        "X_train_vectorized = vectorizer.fit_transform(X_train)\n",
        "X_test_vectorized = vectorizer.transform(X_test)\n",
        "\n",
        "model = DecisionTreeClassifier()\n",
        "model.fit(X_train_vectorized, y_train)\n",
        "\n",
        "def predict_use(medicine_name):\n",
        "    medicine_vectorized = vectorizer.transform([medicine_name])\n",
        "    use = model.predict(medicine_vectorized)\n",
        "    return use[0]\n",
        "\n",
        "test_medicine_name = \"Qurs Gulnar\"\n",
        "predicted_use = predict_use(test_medicine_name)\n",
        "print(\"The medicine '{}' is used for '{}'.\".format(test_medicine_name, predicted_use))"
      ]
    }
  ]
}